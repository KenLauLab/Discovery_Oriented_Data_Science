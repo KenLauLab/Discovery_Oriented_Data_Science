{
 "cells": [
  {
   "cell_type": "markdown",
   "metadata": {},
   "source": [
    "# **Preprocessing and Feature Selection of scRNA-Seq Data**"
   ]
  },
  {
   "cell_type": "markdown",
   "metadata": {},
   "source": [
    "We first need to import relevant modules."
   ]
  },
  {
   "cell_type": "code",
   "execution_count": 1,
   "metadata": {},
   "outputs": [],
   "source": [
    "import numpy as np\n",
    "import pandas as pd\n",
    "import nvr\n",
    "import matplotlib.pyplot as plt\n",
    "%matplotlib inline"
   ]
  },
  {
   "cell_type": "markdown",
   "metadata": {},
   "source": [
    "Next, upload UMI/counts from the data directory into a pandas Dataframe. "
   ]
  },
  {
   "cell_type": "code",
   "execution_count": 2,
   "metadata": {},
   "outputs": [],
   "source": [
    "counts = pd.read_csv( \"../data/raw_scRNA.csv\")"
   ]
  },
  {
   "cell_type": "markdown",
   "metadata": {},
   "source": [
    "Its always a good idea to check your data has been loaded correctly."
   ]
  },
  {
   "cell_type": "code",
   "execution_count": 3,
   "metadata": {},
   "outputs": [
    {
     "data": {
      "text/html": [
       "<div>\n",
       "<style scoped>\n",
       "    .dataframe tbody tr th:only-of-type {\n",
       "        vertical-align: middle;\n",
       "    }\n",
       "\n",
       "    .dataframe tbody tr th {\n",
       "        vertical-align: top;\n",
       "    }\n",
       "\n",
       "    .dataframe thead th {\n",
       "        text-align: right;\n",
       "    }\n",
       "</style>\n",
       "<table border=\"1\" class=\"dataframe\">\n",
       "  <thead>\n",
       "    <tr style=\"text-align: right;\">\n",
       "      <th></th>\n",
       "      <th>0610006L08Rik</th>\n",
       "      <th>0610007P14Rik</th>\n",
       "      <th>0610009B22Rik</th>\n",
       "      <th>0610009E02Rik</th>\n",
       "      <th>0610009L18Rik</th>\n",
       "      <th>0610009O20Rik</th>\n",
       "      <th>0610010F05Rik</th>\n",
       "      <th>0610010K14Rik</th>\n",
       "      <th>0610011F06Rik</th>\n",
       "      <th>0610012D04Rik</th>\n",
       "      <th>...</th>\n",
       "      <th>n-R5s90</th>\n",
       "      <th>n-R5s92</th>\n",
       "      <th>n-R5s93</th>\n",
       "      <th>n-R5s94</th>\n",
       "      <th>n-R5s95</th>\n",
       "      <th>n-R5s96</th>\n",
       "      <th>n-R5s97</th>\n",
       "      <th>n-R5s98</th>\n",
       "      <th>n-TSaga9</th>\n",
       "      <th>n-TStga1</th>\n",
       "    </tr>\n",
       "  </thead>\n",
       "  <tbody>\n",
       "    <tr>\n",
       "      <th>0</th>\n",
       "      <td>0</td>\n",
       "      <td>4</td>\n",
       "      <td>4</td>\n",
       "      <td>0</td>\n",
       "      <td>0</td>\n",
       "      <td>0</td>\n",
       "      <td>1</td>\n",
       "      <td>0</td>\n",
       "      <td>3</td>\n",
       "      <td>0</td>\n",
       "      <td>...</td>\n",
       "      <td>0</td>\n",
       "      <td>0</td>\n",
       "      <td>0</td>\n",
       "      <td>0</td>\n",
       "      <td>0</td>\n",
       "      <td>0</td>\n",
       "      <td>0</td>\n",
       "      <td>0</td>\n",
       "      <td>0</td>\n",
       "      <td>0</td>\n",
       "    </tr>\n",
       "    <tr>\n",
       "      <th>1</th>\n",
       "      <td>0</td>\n",
       "      <td>8</td>\n",
       "      <td>1</td>\n",
       "      <td>0</td>\n",
       "      <td>0</td>\n",
       "      <td>0</td>\n",
       "      <td>1</td>\n",
       "      <td>1</td>\n",
       "      <td>1</td>\n",
       "      <td>0</td>\n",
       "      <td>...</td>\n",
       "      <td>0</td>\n",
       "      <td>0</td>\n",
       "      <td>0</td>\n",
       "      <td>0</td>\n",
       "      <td>0</td>\n",
       "      <td>0</td>\n",
       "      <td>0</td>\n",
       "      <td>0</td>\n",
       "      <td>0</td>\n",
       "      <td>0</td>\n",
       "    </tr>\n",
       "    <tr>\n",
       "      <th>2</th>\n",
       "      <td>0</td>\n",
       "      <td>3</td>\n",
       "      <td>1</td>\n",
       "      <td>0</td>\n",
       "      <td>0</td>\n",
       "      <td>0</td>\n",
       "      <td>0</td>\n",
       "      <td>0</td>\n",
       "      <td>0</td>\n",
       "      <td>0</td>\n",
       "      <td>...</td>\n",
       "      <td>0</td>\n",
       "      <td>0</td>\n",
       "      <td>0</td>\n",
       "      <td>0</td>\n",
       "      <td>0</td>\n",
       "      <td>0</td>\n",
       "      <td>0</td>\n",
       "      <td>0</td>\n",
       "      <td>0</td>\n",
       "      <td>0</td>\n",
       "    </tr>\n",
       "    <tr>\n",
       "      <th>3</th>\n",
       "      <td>0</td>\n",
       "      <td>4</td>\n",
       "      <td>3</td>\n",
       "      <td>2</td>\n",
       "      <td>1</td>\n",
       "      <td>0</td>\n",
       "      <td>0</td>\n",
       "      <td>0</td>\n",
       "      <td>0</td>\n",
       "      <td>0</td>\n",
       "      <td>...</td>\n",
       "      <td>0</td>\n",
       "      <td>0</td>\n",
       "      <td>0</td>\n",
       "      <td>0</td>\n",
       "      <td>0</td>\n",
       "      <td>0</td>\n",
       "      <td>0</td>\n",
       "      <td>0</td>\n",
       "      <td>0</td>\n",
       "      <td>0</td>\n",
       "    </tr>\n",
       "    <tr>\n",
       "      <th>4</th>\n",
       "      <td>0</td>\n",
       "      <td>2</td>\n",
       "      <td>1</td>\n",
       "      <td>0</td>\n",
       "      <td>0</td>\n",
       "      <td>0</td>\n",
       "      <td>0</td>\n",
       "      <td>0</td>\n",
       "      <td>0</td>\n",
       "      <td>0</td>\n",
       "      <td>...</td>\n",
       "      <td>0</td>\n",
       "      <td>0</td>\n",
       "      <td>0</td>\n",
       "      <td>0</td>\n",
       "      <td>0</td>\n",
       "      <td>0</td>\n",
       "      <td>0</td>\n",
       "      <td>0</td>\n",
       "      <td>0</td>\n",
       "      <td>0</td>\n",
       "    </tr>\n",
       "  </tbody>\n",
       "</table>\n",
       "<p>5 rows × 38487 columns</p>\n",
       "</div>"
      ],
      "text/plain": [
       "   0610006L08Rik  0610007P14Rik  0610009B22Rik  0610009E02Rik  0610009L18Rik  \\\n",
       "0              0              4              4              0              0   \n",
       "1              0              8              1              0              0   \n",
       "2              0              3              1              0              0   \n",
       "3              0              4              3              2              1   \n",
       "4              0              2              1              0              0   \n",
       "\n",
       "   0610009O20Rik  0610010F05Rik  0610010K14Rik  0610011F06Rik  0610012D04Rik  \\\n",
       "0              0              1              0              3              0   \n",
       "1              0              1              1              1              0   \n",
       "2              0              0              0              0              0   \n",
       "3              0              0              0              0              0   \n",
       "4              0              0              0              0              0   \n",
       "\n",
       "     ...     n-R5s90  n-R5s92  n-R5s93  n-R5s94  n-R5s95  n-R5s96  n-R5s97  \\\n",
       "0    ...           0        0        0        0        0        0        0   \n",
       "1    ...           0        0        0        0        0        0        0   \n",
       "2    ...           0        0        0        0        0        0        0   \n",
       "3    ...           0        0        0        0        0        0        0   \n",
       "4    ...           0        0        0        0        0        0        0   \n",
       "\n",
       "   n-R5s98  n-TSaga9  n-TStga1  \n",
       "0        0         0         0  \n",
       "1        0         0         0  \n",
       "2        0         0         0  \n",
       "3        0         0         0  \n",
       "4        0         0         0  \n",
       "\n",
       "[5 rows x 38487 columns]"
      ]
     },
     "execution_count": 3,
     "metadata": {},
     "output_type": "execute_result"
    }
   ],
   "source": [
    "counts.head()"
   ]
  },
  {
   "cell_type": "code",
   "execution_count": 4,
   "metadata": {},
   "outputs": [
    {
     "name": "stdout",
     "output_type": "stream",
     "text": [
      "Number of cells = 3000...........Number of genes = 38487\n"
     ]
    }
   ],
   "source": [
    "num_cells, num_genes = counts.shape\n",
    "print( \"Number of cells = {0}...........Number of genes = {1}\".format( num_cells, num_genes))"
   ]
  },
  {
   "cell_type": "markdown",
   "metadata": {},
   "source": [
    "## **Filter Cells Based on Library Size**"
   ]
  },
  {
   "cell_type": "markdown",
   "metadata": {},
   "source": [
    "Calculate the library size (total number of counts) for all cells and sort the sizes from highest to lowest."
   ]
  },
  {
   "cell_type": "code",
   "execution_count": 6,
   "metadata": {},
   "outputs": [],
   "source": [
    "lib_sizes = np.sort( np.sum( counts.values, axis=1))[::-1] # [::-1] reverses the array order so that its highest to lowest"
   ]
  },
  {
   "cell_type": "markdown",
   "metadata": {},
   "source": [
    "A histogram of library sizes shows that most of these cells have very few gene counts, so we need to remove these cells."
   ]
  },
  {
   "cell_type": "code",
   "execution_count": 7,
   "metadata": {},
   "outputs": [
    {
     "data": {
      "image/png": "[encoded data removed]",
      "text/plain": [
       "<Figure size 432x288 with 1 Axes>"
      ]
     },
     "metadata": {},
     "output_type": "display_data"
    }
   ],
   "source": [
    "plt.hist( lib_sizes, bins=200)\n",
    "plt.ylabel('Number of Cells')\n",
    "_ = plt.xlabel('Library Size')"
   ]
  },
  {
   "cell_type": "markdown",
   "metadata": {},
   "source": [
    "There are a few ways to accomplish this, but we prefer cumulative sum plotting. We start by first plotting the cumulative sum of the sorted cell library sizes, where cumulative sum of an *`array(a,b,c)`* equals *`(a, a+b, a+b+c)`*. We sorted or library sizes highest to lowest, so in our case *`a>b>c`*."
   ]
  },
  {
   "cell_type": "code",
   "execution_count": 8,
   "metadata": {},
   "outputs": [
    {
     "data": {
      "text/plain": [
       "array([ 6, 10, 11])"
      ]
     },
     "execution_count": 8,
     "metadata": {},
     "output_type": "execute_result"
    }
   ],
   "source": [
    "# simple example of np.cumsum()\n",
    "np.cumsum( [6,4,1])"
   ]
  },
  {
   "cell_type": "code",
   "execution_count": 9,
   "metadata": {},
   "outputs": [
    {
     "data": {
      "image/png": "[encoded data removed]",
      "text/plain": [
       "<Figure size 432x288 with 1 Axes>"
      ]
     },
     "metadata": {},
     "output_type": "display_data"
    }
   ],
   "source": [
    "plt.bar( np.arange( num_cells), np.cumsum( lib_sizes)/1e7)\n",
    "plt.ylabel( 'Cumulative UMI Counts per Million')\n",
    "_ = plt.xlabel( 'Number of Cells Summed')"
   ]
  },
  {
   "cell_type": "markdown",
   "metadata": {},
   "source": [
    "Cells with smaller library sizes will contribute less to the cumulative sum than cells with larger library sizes. Cells after the inflection point are considered \"bad\" due to their small library sizes. This cutoff changes dataset to dataset depending upon the platform, sequencing dept, biology, and etc."
   ]
  },
  {
   "cell_type": "code",
   "execution_count": 11,
   "metadata": {},
   "outputs": [
    {
     "data": {
      "image/png": "[encoded data removed]",
      "text/plain": [
       "<Figure size 720x360 with 1 Axes>"
      ]
     },
     "metadata": {},
     "output_type": "display_data"
    }
   ],
   "source": [
    "with plt.xkcd():\n",
    "    fig = plt.figure( figsize=(10,5))\n",
    "    ax = fig.add_axes((0.1, 0.2, 0.8, 0.7))\n",
    "    plt.xticks([])\n",
    "    plt.yticks([])\n",
    "    ax.set_ylim([-30, 10])\n",
    "    data = np.ones(100) \n",
    "    data[:40] -= np.arange(40)[::-1] - 1\n",
    "    plt.annotate( 'Inflection Point', xy=(36, 1.2), arrowprops=dict(arrowstyle='->'), xytext=(-0, 5))\n",
    "    plt.plot(data, alpha=0.7)\n",
    "    plt.scatter( 39, 1, c='red', s=500)\n",
    "    plt.xlabel('Number of Cells Summed')\n",
    "    plt.ylabel('Cumulative UMI Counts per Million')\n",
    "    plt.title('Ideal Cumulative Plot')"
   ]
  },
  {
   "cell_type": "markdown",
   "metadata": {},
   "source": [
    "Yes, this is very much a subjective exercise. For that reason, we under estimate the inflection point to be more restrictive. Here, we estimate it to be ~900."
   ]
  },
  {
   "cell_type": "code",
   "execution_count": 12,
   "metadata": {},
   "outputs": [],
   "source": [
    "inflect_pt = 900"
   ]
  },
  {
   "cell_type": "code",
   "execution_count": 13,
   "metadata": {},
   "outputs": [
    {
     "data": {
      "image/png": "[encoded data removed]",
      "text/plain": [
       "<Figure size 432x288 with 1 Axes>"
      ]
     },
     "metadata": {},
     "output_type": "display_data"
    }
   ],
   "source": [
    "plt.bar( np.arange( num_cells), np.cumsum( lib_sizes)/1e7, alpha=0.4)\n",
    "plt.vlines( inflect_pt, 0, 0.9, colors='red')\n",
    "plt.ylabel( 'Cumulative UMI Counts per Million')\n",
    "plt.text( 100, 0.5, 'Good Cells', fontsize=12)\n",
    "plt.text( 1500, 0.5, 'Empty Barcodes', fontsize=12)\n",
    "plt.ylim(0.0,0.9)\n",
    "_ = plt.xlabel( 'Number of Cells Summed')"
   ]
  },
  {
   "cell_type": "markdown",
   "metadata": {},
   "source": [
    "Good cells can now be selected for using our threshold. Since the library sizes were sorted from high to low we can pull the 900 cells with largest cell libraries using the `np.argsort()` function. Instead of returning the sorted values, `np.argsort()` returns an array of element indices that have been sorted on  values from lowest to highest.  "
   ]
  },
  {
   "cell_type": "code",
   "execution_count": 14,
   "metadata": {},
   "outputs": [
    {
     "data": {
      "text/plain": [
       "array([1, 2, 0])"
      ]
     },
     "execution_count": 14,
     "metadata": {},
     "output_type": "execute_result"
    }
   ],
   "source": [
    "# simple np.argsort() example\n",
    "np.argsort( [5,1,2])"
   ]
  },
  {
   "cell_type": "code",
   "execution_count": 15,
   "metadata": {},
   "outputs": [
    {
     "data": {
      "text/plain": [
       "array([2999, 2998, 2997, ...,    2,    1,    0])"
      ]
     },
     "execution_count": 15,
     "metadata": {},
     "output_type": "execute_result"
    }
   ],
   "source": [
    "np.argsort( lib_sizes)"
   ]
  },
  {
   "cell_type": "markdown",
   "metadata": {},
   "source": [
    "Sort functions rank from lowest to highest so we want the last 900 cell indices."
   ]
  },
  {
   "cell_type": "code",
   "execution_count": 16,
   "metadata": {},
   "outputs": [],
   "source": [
    "good_ind = np.argsort( lib_sizes)[-inflect_pt:]"
   ]
  },
  {
   "cell_type": "markdown",
   "metadata": {},
   "source": [
    "Select good cells from raw count data. "
   ]
  },
  {
   "cell_type": "code",
   "execution_count": 17,
   "metadata": {},
   "outputs": [
    {
     "data": {
      "text/html": [
       "<div>\n",
       "<style scoped>\n",
       "    .dataframe tbody tr th:only-of-type {\n",
       "        vertical-align: middle;\n",
       "    }\n",
       "\n",
       "    .dataframe tbody tr th {\n",
       "        vertical-align: top;\n",
       "    }\n",
       "\n",
       "    .dataframe thead th {\n",
       "        text-align: right;\n",
       "    }\n",
       "</style>\n",
       "<table border=\"1\" class=\"dataframe\">\n",
       "  <thead>\n",
       "    <tr style=\"text-align: right;\">\n",
       "      <th></th>\n",
       "      <th>0610006L08Rik</th>\n",
       "      <th>0610007P14Rik</th>\n",
       "      <th>0610009B22Rik</th>\n",
       "      <th>0610009E02Rik</th>\n",
       "      <th>0610009L18Rik</th>\n",
       "      <th>0610009O20Rik</th>\n",
       "      <th>0610010F05Rik</th>\n",
       "      <th>0610010K14Rik</th>\n",
       "      <th>0610011F06Rik</th>\n",
       "      <th>0610012D04Rik</th>\n",
       "      <th>...</th>\n",
       "      <th>n-R5s90</th>\n",
       "      <th>n-R5s92</th>\n",
       "      <th>n-R5s93</th>\n",
       "      <th>n-R5s94</th>\n",
       "      <th>n-R5s95</th>\n",
       "      <th>n-R5s96</th>\n",
       "      <th>n-R5s97</th>\n",
       "      <th>n-R5s98</th>\n",
       "      <th>n-TSaga9</th>\n",
       "      <th>n-TStga1</th>\n",
       "    </tr>\n",
       "  </thead>\n",
       "  <tbody>\n",
       "    <tr>\n",
       "      <th>899</th>\n",
       "      <td>0</td>\n",
       "      <td>0</td>\n",
       "      <td>0</td>\n",
       "      <td>0</td>\n",
       "      <td>0</td>\n",
       "      <td>0</td>\n",
       "      <td>0</td>\n",
       "      <td>0</td>\n",
       "      <td>0</td>\n",
       "      <td>0</td>\n",
       "      <td>...</td>\n",
       "      <td>0</td>\n",
       "      <td>0</td>\n",
       "      <td>0</td>\n",
       "      <td>0</td>\n",
       "      <td>0</td>\n",
       "      <td>0</td>\n",
       "      <td>0</td>\n",
       "      <td>0</td>\n",
       "      <td>0</td>\n",
       "      <td>0</td>\n",
       "    </tr>\n",
       "    <tr>\n",
       "      <th>898</th>\n",
       "      <td>0</td>\n",
       "      <td>1</td>\n",
       "      <td>0</td>\n",
       "      <td>0</td>\n",
       "      <td>0</td>\n",
       "      <td>0</td>\n",
       "      <td>0</td>\n",
       "      <td>0</td>\n",
       "      <td>0</td>\n",
       "      <td>0</td>\n",
       "      <td>...</td>\n",
       "      <td>0</td>\n",
       "      <td>0</td>\n",
       "      <td>0</td>\n",
       "      <td>0</td>\n",
       "      <td>0</td>\n",
       "      <td>0</td>\n",
       "      <td>0</td>\n",
       "      <td>0</td>\n",
       "      <td>0</td>\n",
       "      <td>0</td>\n",
       "    </tr>\n",
       "    <tr>\n",
       "      <th>897</th>\n",
       "      <td>0</td>\n",
       "      <td>0</td>\n",
       "      <td>0</td>\n",
       "      <td>0</td>\n",
       "      <td>0</td>\n",
       "      <td>0</td>\n",
       "      <td>0</td>\n",
       "      <td>0</td>\n",
       "      <td>0</td>\n",
       "      <td>0</td>\n",
       "      <td>...</td>\n",
       "      <td>0</td>\n",
       "      <td>0</td>\n",
       "      <td>0</td>\n",
       "      <td>0</td>\n",
       "      <td>0</td>\n",
       "      <td>0</td>\n",
       "      <td>0</td>\n",
       "      <td>0</td>\n",
       "      <td>0</td>\n",
       "      <td>0</td>\n",
       "    </tr>\n",
       "    <tr>\n",
       "      <th>896</th>\n",
       "      <td>0</td>\n",
       "      <td>0</td>\n",
       "      <td>0</td>\n",
       "      <td>0</td>\n",
       "      <td>0</td>\n",
       "      <td>0</td>\n",
       "      <td>0</td>\n",
       "      <td>0</td>\n",
       "      <td>0</td>\n",
       "      <td>0</td>\n",
       "      <td>...</td>\n",
       "      <td>0</td>\n",
       "      <td>0</td>\n",
       "      <td>0</td>\n",
       "      <td>0</td>\n",
       "      <td>0</td>\n",
       "      <td>0</td>\n",
       "      <td>0</td>\n",
       "      <td>0</td>\n",
       "      <td>0</td>\n",
       "      <td>0</td>\n",
       "    </tr>\n",
       "    <tr>\n",
       "      <th>895</th>\n",
       "      <td>0</td>\n",
       "      <td>0</td>\n",
       "      <td>0</td>\n",
       "      <td>0</td>\n",
       "      <td>0</td>\n",
       "      <td>0</td>\n",
       "      <td>0</td>\n",
       "      <td>0</td>\n",
       "      <td>0</td>\n",
       "      <td>0</td>\n",
       "      <td>...</td>\n",
       "      <td>0</td>\n",
       "      <td>0</td>\n",
       "      <td>0</td>\n",
       "      <td>0</td>\n",
       "      <td>0</td>\n",
       "      <td>0</td>\n",
       "      <td>0</td>\n",
       "      <td>0</td>\n",
       "      <td>0</td>\n",
       "      <td>0</td>\n",
       "    </tr>\n",
       "  </tbody>\n",
       "</table>\n",
       "<p>5 rows × 38487 columns</p>\n",
       "</div>"
      ],
      "text/plain": [
       "     0610006L08Rik  0610007P14Rik  0610009B22Rik  0610009E02Rik  \\\n",
       "899              0              0              0              0   \n",
       "898              0              1              0              0   \n",
       "897              0              0              0              0   \n",
       "896              0              0              0              0   \n",
       "895              0              0              0              0   \n",
       "\n",
       "     0610009L18Rik  0610009O20Rik  0610010F05Rik  0610010K14Rik  \\\n",
       "899              0              0              0              0   \n",
       "898              0              0              0              0   \n",
       "897              0              0              0              0   \n",
       "896              0              0              0              0   \n",
       "895              0              0              0              0   \n",
       "\n",
       "     0610011F06Rik  0610012D04Rik    ...     n-R5s90  n-R5s92  n-R5s93  \\\n",
       "899              0              0    ...           0        0        0   \n",
       "898              0              0    ...           0        0        0   \n",
       "897              0              0    ...           0        0        0   \n",
       "896              0              0    ...           0        0        0   \n",
       "895              0              0    ...           0        0        0   \n",
       "\n",
       "     n-R5s94  n-R5s95  n-R5s96  n-R5s97  n-R5s98  n-TSaga9  n-TStga1  \n",
       "899        0        0        0        0        0         0         0  \n",
       "898        0        0        0        0        0         0         0  \n",
       "897        0        0        0        0        0         0         0  \n",
       "896        0        0        0        0        0         0         0  \n",
       "895        0        0        0        0        0         0         0  \n",
       "\n",
       "[5 rows x 38487 columns]"
      ]
     },
     "execution_count": 17,
     "metadata": {},
     "output_type": "execute_result"
    }
   ],
   "source": [
    "good_cells = counts.iloc[good_ind,:]\n",
    "good_cells.head()"
   ]
  },
  {
   "cell_type": "code",
   "execution_count": 18,
   "metadata": {},
   "outputs": [
    {
     "data": {
      "text/plain": [
       "(900, 38487)"
      ]
     },
     "execution_count": 18,
     "metadata": {},
     "output_type": "execute_result"
    }
   ],
   "source": [
    "good_cells.shape"
   ]
  },
  {
   "cell_type": "markdown",
   "metadata": {},
   "source": [
    "## **Filter Genes**"
   ]
  },
  {
   "cell_type": "markdown",
   "metadata": {},
   "source": [
    "To filter out genes we start by removing genes with only 0 or 1 as entry."
   ]
  },
  {
   "cell_type": "code",
   "execution_count": 19,
   "metadata": {
    "scrolled": false
   },
   "outputs": [],
   "source": [
    "# for speed purposes create ndarray from good_cells Dataframe\n",
    "good_vals = good_cells.values\n",
    "# create an array to hold good gene indices\n",
    "good_gene_ind = np.array( [], dtype=int)\n",
    "for ii in range( num_genes):\n",
    "    # get the unique values for column index ii\n",
    "    unique_vals = np.unique( good_vals[:,ii])\n",
    "    # test if the sum of unique values is less than or equal to 1\n",
    "    if( unique_vals.sum()>1):\n",
    "        # if so record the column index\n",
    "        good_gene_ind = np.append( good_gene_ind, ii)"
   ]
  },
  {
   "cell_type": "code",
   "execution_count": 20,
   "metadata": {
    "scrolled": true
   },
   "outputs": [
    {
     "data": {
      "text/html": [
       "<div>\n",
       "<style scoped>\n",
       "    .dataframe tbody tr th:only-of-type {\n",
       "        vertical-align: middle;\n",
       "    }\n",
       "\n",
       "    .dataframe tbody tr th {\n",
       "        vertical-align: top;\n",
       "    }\n",
       "\n",
       "    .dataframe thead th {\n",
       "        text-align: right;\n",
       "    }\n",
       "</style>\n",
       "<table border=\"1\" class=\"dataframe\">\n",
       "  <thead>\n",
       "    <tr style=\"text-align: right;\">\n",
       "      <th></th>\n",
       "      <th>0610007P14Rik</th>\n",
       "      <th>0610009B22Rik</th>\n",
       "      <th>0610009E02Rik</th>\n",
       "      <th>0610009L18Rik</th>\n",
       "      <th>0610010F05Rik</th>\n",
       "      <th>0610010K14Rik</th>\n",
       "      <th>0610011F06Rik</th>\n",
       "      <th>0610012G03Rik</th>\n",
       "      <th>0610030E20Rik</th>\n",
       "      <th>0610031O16Rik</th>\n",
       "      <th>...</th>\n",
       "      <th>mt-Cytb</th>\n",
       "      <th>mt-Nd1</th>\n",
       "      <th>mt-Nd2</th>\n",
       "      <th>mt-Nd3</th>\n",
       "      <th>mt-Nd4</th>\n",
       "      <th>mt-Nd4l</th>\n",
       "      <th>mt-Nd5</th>\n",
       "      <th>mt-Nd6</th>\n",
       "      <th>mt-Rnr1</th>\n",
       "      <th>mt-Rnr2</th>\n",
       "    </tr>\n",
       "  </thead>\n",
       "  <tbody>\n",
       "    <tr>\n",
       "      <th>899</th>\n",
       "      <td>0</td>\n",
       "      <td>0</td>\n",
       "      <td>0</td>\n",
       "      <td>0</td>\n",
       "      <td>0</td>\n",
       "      <td>0</td>\n",
       "      <td>0</td>\n",
       "      <td>0</td>\n",
       "      <td>0</td>\n",
       "      <td>0</td>\n",
       "      <td>...</td>\n",
       "      <td>55</td>\n",
       "      <td>30</td>\n",
       "      <td>24</td>\n",
       "      <td>6</td>\n",
       "      <td>36</td>\n",
       "      <td>0</td>\n",
       "      <td>14</td>\n",
       "      <td>0</td>\n",
       "      <td>41</td>\n",
       "      <td>129</td>\n",
       "    </tr>\n",
       "    <tr>\n",
       "      <th>898</th>\n",
       "      <td>1</td>\n",
       "      <td>0</td>\n",
       "      <td>0</td>\n",
       "      <td>0</td>\n",
       "      <td>0</td>\n",
       "      <td>0</td>\n",
       "      <td>0</td>\n",
       "      <td>0</td>\n",
       "      <td>0</td>\n",
       "      <td>0</td>\n",
       "      <td>...</td>\n",
       "      <td>125</td>\n",
       "      <td>104</td>\n",
       "      <td>64</td>\n",
       "      <td>31</td>\n",
       "      <td>105</td>\n",
       "      <td>2</td>\n",
       "      <td>10</td>\n",
       "      <td>0</td>\n",
       "      <td>10</td>\n",
       "      <td>15</td>\n",
       "    </tr>\n",
       "    <tr>\n",
       "      <th>897</th>\n",
       "      <td>0</td>\n",
       "      <td>0</td>\n",
       "      <td>0</td>\n",
       "      <td>0</td>\n",
       "      <td>0</td>\n",
       "      <td>0</td>\n",
       "      <td>0</td>\n",
       "      <td>0</td>\n",
       "      <td>0</td>\n",
       "      <td>0</td>\n",
       "      <td>...</td>\n",
       "      <td>208</td>\n",
       "      <td>248</td>\n",
       "      <td>186</td>\n",
       "      <td>53</td>\n",
       "      <td>220</td>\n",
       "      <td>1</td>\n",
       "      <td>37</td>\n",
       "      <td>0</td>\n",
       "      <td>21</td>\n",
       "      <td>55</td>\n",
       "    </tr>\n",
       "    <tr>\n",
       "      <th>896</th>\n",
       "      <td>0</td>\n",
       "      <td>0</td>\n",
       "      <td>0</td>\n",
       "      <td>0</td>\n",
       "      <td>0</td>\n",
       "      <td>0</td>\n",
       "      <td>0</td>\n",
       "      <td>0</td>\n",
       "      <td>0</td>\n",
       "      <td>0</td>\n",
       "      <td>...</td>\n",
       "      <td>1</td>\n",
       "      <td>0</td>\n",
       "      <td>0</td>\n",
       "      <td>0</td>\n",
       "      <td>1</td>\n",
       "      <td>0</td>\n",
       "      <td>0</td>\n",
       "      <td>0</td>\n",
       "      <td>0</td>\n",
       "      <td>0</td>\n",
       "    </tr>\n",
       "    <tr>\n",
       "      <th>895</th>\n",
       "      <td>0</td>\n",
       "      <td>0</td>\n",
       "      <td>0</td>\n",
       "      <td>0</td>\n",
       "      <td>0</td>\n",
       "      <td>0</td>\n",
       "      <td>0</td>\n",
       "      <td>0</td>\n",
       "      <td>0</td>\n",
       "      <td>0</td>\n",
       "      <td>...</td>\n",
       "      <td>61</td>\n",
       "      <td>40</td>\n",
       "      <td>38</td>\n",
       "      <td>29</td>\n",
       "      <td>52</td>\n",
       "      <td>0</td>\n",
       "      <td>3</td>\n",
       "      <td>0</td>\n",
       "      <td>18</td>\n",
       "      <td>34</td>\n",
       "    </tr>\n",
       "  </tbody>\n",
       "</table>\n",
       "<p>5 rows × 15419 columns</p>\n",
       "</div>"
      ],
      "text/plain": [
       "     0610007P14Rik  0610009B22Rik  0610009E02Rik  0610009L18Rik  \\\n",
       "899              0              0              0              0   \n",
       "898              1              0              0              0   \n",
       "897              0              0              0              0   \n",
       "896              0              0              0              0   \n",
       "895              0              0              0              0   \n",
       "\n",
       "     0610010F05Rik  0610010K14Rik  0610011F06Rik  0610012G03Rik  \\\n",
       "899              0              0              0              0   \n",
       "898              0              0              0              0   \n",
       "897              0              0              0              0   \n",
       "896              0              0              0              0   \n",
       "895              0              0              0              0   \n",
       "\n",
       "     0610030E20Rik  0610031O16Rik   ...     mt-Cytb  mt-Nd1  mt-Nd2  mt-Nd3  \\\n",
       "899              0              0   ...          55      30      24       6   \n",
       "898              0              0   ...         125     104      64      31   \n",
       "897              0              0   ...         208     248     186      53   \n",
       "896              0              0   ...           1       0       0       0   \n",
       "895              0              0   ...          61      40      38      29   \n",
       "\n",
       "     mt-Nd4  mt-Nd4l  mt-Nd5  mt-Nd6  mt-Rnr1  mt-Rnr2  \n",
       "899      36        0      14       0       41      129  \n",
       "898     105        2      10       0       10       15  \n",
       "897     220        1      37       0       21       55  \n",
       "896       1        0       0       0        0        0  \n",
       "895      52        0       3       0       18       34  \n",
       "\n",
       "[5 rows x 15419 columns]"
      ]
     },
     "execution_count": 20,
     "metadata": {},
     "output_type": "execute_result"
    }
   ],
   "source": [
    "exp_genes = good_cells.iloc[:,good_gene_ind]\n",
    "exp_genes.head()"
   ]
  },
  {
   "cell_type": "markdown",
   "metadata": {},
   "source": [
    "## **Remove Mitochondrial Genes**"
   ]
  },
  {
   "cell_type": "code",
   "execution_count": 21,
   "metadata": {},
   "outputs": [],
   "source": [
    "exp_names = exp_genes.columns"
   ]
  },
  {
   "cell_type": "markdown",
   "metadata": {},
   "source": [
    "Identify mitochondrial genes by searching for genes that start with 'mt'. Naming conventions vary 'mt' or 'Mt', so typically look for `mt-Atp6`. "
   ]
  },
  {
   "cell_type": "code",
   "execution_count": 27,
   "metadata": {},
   "outputs": [
    {
     "data": {
      "text/plain": [
       "array(['mt-Atp6', 'mt-Atp8', 'mt-Co1', 'mt-Co2', 'mt-Co3', 'mt-Cytb',\n",
       "       'mt-Nd1', 'mt-Nd2', 'mt-Nd3', 'mt-Nd4', 'mt-Nd4l', 'mt-Nd5',\n",
       "       'mt-Nd6', 'mt-Rnr1', 'mt-Rnr2'], dtype=object)"
      ]
     },
     "execution_count": 27,
     "metadata": {},
     "output_type": "execute_result"
    }
   ],
   "source": [
    "mt_mask = pd.Series( exp_names).str.startswith( 'mt').values # startswith() is case sensitive\n",
    "exp_names.values[mt_mask]"
   ]
  },
  {
   "cell_type": "markdown",
   "metadata": {},
   "source": [
    "We can invert the mask using `~`."
   ]
  },
  {
   "cell_type": "code",
   "execution_count": 28,
   "metadata": {},
   "outputs": [
    {
     "name": "stdout",
     "output_type": "stream",
     "text": [
      "[False False False ...  True  True  True]\n",
      "[ True  True  True ... False False False]\n"
     ]
    }
   ],
   "source": [
    "# example of inverting a mask\n",
    "print  mt_mask\n",
    "print ~mt_mask"
   ]
  },
  {
   "cell_type": "code",
   "execution_count": 26,
   "metadata": {},
   "outputs": [
    {
     "data": {
      "text/plain": [
       "array(['0610007P14Rik', '0610009B22Rik', '0610009E02Rik', ..., 'Zzz3',\n",
       "       'a', 'l7Rn6'], dtype=object)"
      ]
     },
     "execution_count": 26,
     "metadata": {},
     "output_type": "execute_result"
    }
   ],
   "source": [
    "exp_names.values[~mt_mask]"
   ]
  },
  {
   "cell_type": "markdown",
   "metadata": {},
   "source": [
    "We now have a Dataframe filtered by both cells and genes. "
   ]
  },
  {
   "cell_type": "code",
   "execution_count": 27,
   "metadata": {},
   "outputs": [
    {
     "data": {
      "text/html": [
       "<div>\n",
       "<style scoped>\n",
       "    .dataframe tbody tr th:only-of-type {\n",
       "        vertical-align: middle;\n",
       "    }\n",
       "\n",
       "    .dataframe tbody tr th {\n",
       "        vertical-align: top;\n",
       "    }\n",
       "\n",
       "    .dataframe thead th {\n",
       "        text-align: right;\n",
       "    }\n",
       "</style>\n",
       "<table border=\"1\" class=\"dataframe\">\n",
       "  <thead>\n",
       "    <tr style=\"text-align: right;\">\n",
       "      <th></th>\n",
       "      <th>0610007P14Rik</th>\n",
       "      <th>0610009B22Rik</th>\n",
       "      <th>0610009E02Rik</th>\n",
       "      <th>0610009L18Rik</th>\n",
       "      <th>0610010F05Rik</th>\n",
       "      <th>0610010K14Rik</th>\n",
       "      <th>0610011F06Rik</th>\n",
       "      <th>0610012G03Rik</th>\n",
       "      <th>0610030E20Rik</th>\n",
       "      <th>0610031O16Rik</th>\n",
       "      <th>...</th>\n",
       "      <th>Zwilch</th>\n",
       "      <th>Zwint</th>\n",
       "      <th>Zxdb</th>\n",
       "      <th>Zxdc</th>\n",
       "      <th>Zyg11b</th>\n",
       "      <th>Zyx</th>\n",
       "      <th>Zzef1</th>\n",
       "      <th>Zzz3</th>\n",
       "      <th>a</th>\n",
       "      <th>l7Rn6</th>\n",
       "    </tr>\n",
       "  </thead>\n",
       "  <tbody>\n",
       "    <tr>\n",
       "      <th>899</th>\n",
       "      <td>0</td>\n",
       "      <td>0</td>\n",
       "      <td>0</td>\n",
       "      <td>0</td>\n",
       "      <td>0</td>\n",
       "      <td>0</td>\n",
       "      <td>0</td>\n",
       "      <td>0</td>\n",
       "      <td>0</td>\n",
       "      <td>0</td>\n",
       "      <td>...</td>\n",
       "      <td>0</td>\n",
       "      <td>0</td>\n",
       "      <td>0</td>\n",
       "      <td>0</td>\n",
       "      <td>0</td>\n",
       "      <td>0</td>\n",
       "      <td>0</td>\n",
       "      <td>0</td>\n",
       "      <td>0</td>\n",
       "      <td>0</td>\n",
       "    </tr>\n",
       "    <tr>\n",
       "      <th>898</th>\n",
       "      <td>1</td>\n",
       "      <td>0</td>\n",
       "      <td>0</td>\n",
       "      <td>0</td>\n",
       "      <td>0</td>\n",
       "      <td>0</td>\n",
       "      <td>0</td>\n",
       "      <td>0</td>\n",
       "      <td>0</td>\n",
       "      <td>0</td>\n",
       "      <td>...</td>\n",
       "      <td>0</td>\n",
       "      <td>0</td>\n",
       "      <td>0</td>\n",
       "      <td>0</td>\n",
       "      <td>0</td>\n",
       "      <td>0</td>\n",
       "      <td>0</td>\n",
       "      <td>0</td>\n",
       "      <td>0</td>\n",
       "      <td>1</td>\n",
       "    </tr>\n",
       "    <tr>\n",
       "      <th>897</th>\n",
       "      <td>0</td>\n",
       "      <td>0</td>\n",
       "      <td>0</td>\n",
       "      <td>0</td>\n",
       "      <td>0</td>\n",
       "      <td>0</td>\n",
       "      <td>0</td>\n",
       "      <td>0</td>\n",
       "      <td>0</td>\n",
       "      <td>0</td>\n",
       "      <td>...</td>\n",
       "      <td>0</td>\n",
       "      <td>0</td>\n",
       "      <td>0</td>\n",
       "      <td>0</td>\n",
       "      <td>0</td>\n",
       "      <td>0</td>\n",
       "      <td>0</td>\n",
       "      <td>0</td>\n",
       "      <td>0</td>\n",
       "      <td>0</td>\n",
       "    </tr>\n",
       "    <tr>\n",
       "      <th>896</th>\n",
       "      <td>0</td>\n",
       "      <td>0</td>\n",
       "      <td>0</td>\n",
       "      <td>0</td>\n",
       "      <td>0</td>\n",
       "      <td>0</td>\n",
       "      <td>0</td>\n",
       "      <td>0</td>\n",
       "      <td>0</td>\n",
       "      <td>0</td>\n",
       "      <td>...</td>\n",
       "      <td>0</td>\n",
       "      <td>0</td>\n",
       "      <td>0</td>\n",
       "      <td>0</td>\n",
       "      <td>0</td>\n",
       "      <td>0</td>\n",
       "      <td>0</td>\n",
       "      <td>0</td>\n",
       "      <td>0</td>\n",
       "      <td>0</td>\n",
       "    </tr>\n",
       "    <tr>\n",
       "      <th>895</th>\n",
       "      <td>0</td>\n",
       "      <td>0</td>\n",
       "      <td>0</td>\n",
       "      <td>0</td>\n",
       "      <td>0</td>\n",
       "      <td>0</td>\n",
       "      <td>0</td>\n",
       "      <td>0</td>\n",
       "      <td>0</td>\n",
       "      <td>0</td>\n",
       "      <td>...</td>\n",
       "      <td>0</td>\n",
       "      <td>0</td>\n",
       "      <td>0</td>\n",
       "      <td>0</td>\n",
       "      <td>0</td>\n",
       "      <td>0</td>\n",
       "      <td>0</td>\n",
       "      <td>0</td>\n",
       "      <td>0</td>\n",
       "      <td>0</td>\n",
       "    </tr>\n",
       "  </tbody>\n",
       "</table>\n",
       "<p>5 rows × 15404 columns</p>\n",
       "</div>"
      ],
      "text/plain": [
       "     0610007P14Rik  0610009B22Rik  0610009E02Rik  0610009L18Rik  \\\n",
       "899              0              0              0              0   \n",
       "898              1              0              0              0   \n",
       "897              0              0              0              0   \n",
       "896              0              0              0              0   \n",
       "895              0              0              0              0   \n",
       "\n",
       "     0610010F05Rik  0610010K14Rik  0610011F06Rik  0610012G03Rik  \\\n",
       "899              0              0              0              0   \n",
       "898              0              0              0              0   \n",
       "897              0              0              0              0   \n",
       "896              0              0              0              0   \n",
       "895              0              0              0              0   \n",
       "\n",
       "     0610030E20Rik  0610031O16Rik  ...    Zwilch  Zwint  Zxdb  Zxdc  Zyg11b  \\\n",
       "899              0              0  ...         0      0     0     0       0   \n",
       "898              0              0  ...         0      0     0     0       0   \n",
       "897              0              0  ...         0      0     0     0       0   \n",
       "896              0              0  ...         0      0     0     0       0   \n",
       "895              0              0  ...         0      0     0     0       0   \n",
       "\n",
       "     Zyx  Zzef1  Zzz3  a  l7Rn6  \n",
       "899    0      0     0  0      0  \n",
       "898    0      0     0  0      1  \n",
       "897    0      0     0  0      0  \n",
       "896    0      0     0  0      0  \n",
       "895    0      0     0  0      0  \n",
       "\n",
       "[5 rows x 15404 columns]"
      ]
     },
     "execution_count": 27,
     "metadata": {},
     "output_type": "execute_result"
    }
   ],
   "source": [
    "filt_genes = exp_genes.iloc[:,~mt_mask]\n",
    "filt_genes.head()"
   ]
  },
  {
   "cell_type": "markdown",
   "metadata": {},
   "source": [
    "## **Normalize for Cell Specific Biases**"
   ]
  },
  {
   "cell_type": "markdown",
   "metadata": {},
   "source": [
    "Each cell sequenced is an individual experiment with different capture efficiency and sequencing depths, so we need to correct for cell-to-cell variations with normalization. We normalize cells by multiplying each entry by a constant scaling factor and divided by the library size for cell the count is assigned. More formally, for cell *i* and gene *j*,"
   ]
  },
  {
   "cell_type": "markdown",
   "metadata": {},
   "source": [
    "$$ Norm Count_{ij} = Count_{ij} * \\frac{Scaling Factor}{Library Size_{i}} $$"
   ]
  },
  {
   "cell_type": "markdown",
   "metadata": {},
   "source": [
    "The scaling factor is used to return the count data to a quantities more resembling the raw count data. Here, we use the grand median of only good cell library sizes."
   ]
  },
  {
   "cell_type": "code",
   "execution_count": 42,
   "metadata": {},
   "outputs": [],
   "source": [
    "good_lib_sizes = np.sum( good_cells.values, axis=1)"
   ]
  },
  {
   "cell_type": "code",
   "execution_count": 44,
   "metadata": {},
   "outputs": [
    {
     "data": {
      "text/plain": [
       "6204.0"
      ]
     },
     "execution_count": 44,
     "metadata": {},
     "output_type": "execute_result"
    }
   ],
   "source": [
    "grand_med = np.median( good_lib_sizes)\n",
    "grand_med"
   ]
  },
  {
   "cell_type": "code",
   "execution_count": 45,
   "metadata": {},
   "outputs": [],
   "source": [
    "norm_array = grand_med / good_lib_sizes\n"
   ]
  },
  {
   "cell_type": "code",
   "execution_count": 46,
   "metadata": {},
   "outputs": [],
   "source": [
    "norm_counts = np.zeros_like( filt_genes, dtype=float)\n",
    "for ii in range( filt_genes.shape[1]):\n",
    "    norm_counts[:,ii] = np.multiply( filt_genes.iloc[:,ii], norm_array)"
   ]
  },
  {
   "cell_type": "markdown",
   "metadata": {},
   "source": [
    "## **Variance Normalization**"
   ]
  },
  {
   "cell_type": "markdown",
   "metadata": {},
   "source": [
    "Count data is assumed to closely match a Poisson distribution, where the mean is equal to the variance, increasing as the mean increases. We can show that our data closely matches a Poisson distribution by plotting coefficient of variation (CV) vs log10( mean gene expression). CV is simply variance divided by the mean. The redline below is the trend our data would fit if the mean equaled the variance - Poisson distributed."
   ]
  },
  {
   "cell_type": "code",
   "execution_count": 73,
   "metadata": {},
   "outputs": [],
   "source": [
    "# coefficient of variation (CV) function\n",
    "cv =  lambda x: np.var( x) / np.mean( x)"
   ]
  },
  {
   "cell_type": "code",
   "execution_count": 74,
   "metadata": {},
   "outputs": [],
   "source": [
    "cvs = norm_counts.std(axis=0) / norm_counts.mean(axis=0)\n",
    "cvp = np.sqrt( norm_counts.mean(axis=0)) / norm_counts.mean(axis=0)"
   ]
  },
  {
   "cell_type": "code",
   "execution_count": 102,
   "metadata": {},
   "outputs": [
    {
     "data": {
      "image/png": "[encoded data removed]",
      "text/plain": [
       "<Figure size 432x288 with 1 Axes>"
      ]
     },
     "metadata": {},
     "output_type": "display_data"
    }
   ],
   "source": [
    "plt.scatter( np.log10( norm_counts.mean(axis=0)), np.log10( cvs))\n",
    "plt.plot( np.log10( norm_counts.mean(axis=0)), np.log10( cvp), 'r')\n",
    "plt.xlabel(\"log10(mean gene expression)\")\n",
    "_=plt.ylabel(\"Coefficient of Variation\")"
   ]
  },
  {
   "cell_type": "markdown",
   "metadata": {},
   "source": [
    "The problem with our data being Poisson distribution is downstream analysis assumes data is normally distributed. Any method using Euclidean distances implies normally distributed data (PCA, clustering, and etc). To make our data more \"normalized\" we need to normalize variances. We typically use an arcsinh with a cofacter of 5.0, but log2 and log10 (plus 1) is commonly used. "
   ]
  },
  {
   "cell_type": "code",
   "execution_count": 94,
   "metadata": {},
   "outputs": [],
   "source": [
    "arc_data = np.arcsinh( norm_counts/5.0)"
   ]
  },
  {
   "cell_type": "code",
   "execution_count": 111,
   "metadata": {},
   "outputs": [
    {
     "data": {
      "image/png": "[encoded data removed]",
      "text/plain": [
       "<Figure size 432x288 with 1 Axes>"
      ]
     },
     "metadata": {},
     "output_type": "display_data"
    }
   ],
   "source": [
    "plt.scatter( np.mean( norm_counts, axis=0), np.std( norm_counts, axis=0))\n",
    "plt.ylim(0,70)\n",
    "plt.ylabel(\"Std\")\n",
    "plt.xlabel(\"Mean\")\n",
    "_=plt.title(\"Prior to Var Norm\")"
   ]
  },
  {
   "cell_type": "code",
   "execution_count": 112,
   "metadata": {},
   "outputs": [
    {
     "data": {
      "text/plain": [
       "Text(0.5,1,'After arcsinh')"
      ]
     },
     "execution_count": 112,
     "metadata": {},
     "output_type": "execute_result"
    },
    {
     "data": {
      "image/png": "[encoded data removed]",
      "text/plain": [
       "<Figure size 432x288 with 1 Axes>"
      ]
     },
     "metadata": {},
     "output_type": "display_data"
    }
   ],
   "source": [
    "plt.scatter( np.mean( arc_data, axis=0), np.std( arc_data, axis=0))\n",
    "plt.ylim(0,3.0)\n",
    "plt.ylabel(\"Std\")\n",
    "plt.xlabel(\"Mean\")\n",
    "plt.title(\"After arcsinh\")"
   ]
  },
  {
   "cell_type": "markdown",
   "metadata": {},
   "source": [
    "## **Feature Selection with NVR**"
   ]
  },
  {
   "cell_type": "markdown",
   "metadata": {},
   "source": [
    "Python implementation of NVR (neighborhood variance ratio) gene selection to select genes with local and monotonic variation ([Welch et al., 2016](https://www.ncbi.nlm.nih.gov/pubmed/27215581)). The selected genes possess specific expression patterns over the entire data space amenable to trajectory analysis. This is much faster than the R implementation, but will still take a while."
   ]
  },
  {
   "cell_type": "code",
   "execution_count": 120,
   "metadata": {},
   "outputs": [
    {
     "data": {
      "text/plain": [
       "numpy.ndarray"
      ]
     },
     "execution_count": 120,
     "metadata": {},
     "output_type": "execute_result"
    }
   ],
   "source": [
    "# nvr only takes numpy ndarray as input\n",
    "type( arc_data)"
   ]
  },
  {
   "cell_type": "code",
   "execution_count": 113,
   "metadata": {},
   "outputs": [
    {
     "name": "stdout",
     "output_type": "stream",
     "text": [
      "Start min_conn_k\n",
      "5 connections needed\n",
      "Finished min_conn_k \n",
      "Start traj_dist\n",
      "Finished traj_dist\n",
      "Start adaptive_knn_graph\n",
      "Finished adaptive_knn_graph\n",
      "Start global variance calculation\n",
      "Finished global variance calculation\n",
      "Start neighborhood variance calculation\n",
      "Completion:\n",
      "Finished neighborhood variance calculation\n",
      "Start global to neighborhood variance ratio calculation\n",
      "Finished global to neighborhood variance ratio calculation\n",
      "Finished selection_val\n",
      "Finished gene selection in 318.765067101 seconds\n",
      "done\n"
     ]
    }
   ],
   "source": [
    "selected_genes = nvr.select_genes( arc_data)"
   ]
  },
  {
   "cell_type": "markdown",
   "metadata": {},
   "source": [
    "After NVR we are left with ~800 genes"
   ]
  },
  {
   "cell_type": "code",
   "execution_count": 115,
   "metadata": {},
   "outputs": [
    {
     "data": {
      "text/plain": [
       "806"
      ]
     },
     "execution_count": 115,
     "metadata": {},
     "output_type": "execute_result"
    }
   ],
   "source": [
    "len( selected_genes)"
   ]
  },
  {
   "cell_type": "markdown",
   "metadata": {},
   "source": [
    "To save out filter data set we need to first convert it over to a Dataframe."
   ]
  },
  {
   "cell_type": "code",
   "execution_count": 124,
   "metadata": {},
   "outputs": [
    {
     "data": {
      "text/html": [
       "<div>\n",
       "<style scoped>\n",
       "    .dataframe tbody tr th:only-of-type {\n",
       "        vertical-align: middle;\n",
       "    }\n",
       "\n",
       "    .dataframe tbody tr th {\n",
       "        vertical-align: top;\n",
       "    }\n",
       "\n",
       "    .dataframe thead th {\n",
       "        text-align: right;\n",
       "    }\n",
       "</style>\n",
       "<table border=\"1\" class=\"dataframe\">\n",
       "  <thead>\n",
       "    <tr style=\"text-align: right;\">\n",
       "      <th></th>\n",
       "      <th>1700017I07Rik</th>\n",
       "      <th>1700019D03Rik</th>\n",
       "      <th>1700028M03Rik</th>\n",
       "      <th>1810065E05Rik</th>\n",
       "      <th>2010001A14Rik</th>\n",
       "      <th>2010106E10Rik</th>\n",
       "      <th>2010107G12Rik</th>\n",
       "      <th>2010109I03Rik</th>\n",
       "      <th>2200002D01Rik</th>\n",
       "      <th>2700097O09Rik</th>\n",
       "      <th>...</th>\n",
       "      <th>Xdh</th>\n",
       "      <th>Xpnpep1</th>\n",
       "      <th>Ybx1</th>\n",
       "      <th>Ywhaq</th>\n",
       "      <th>Zfp169</th>\n",
       "      <th>Zfp36</th>\n",
       "      <th>Zfp40</th>\n",
       "      <th>Zfp787</th>\n",
       "      <th>Zg16</th>\n",
       "      <th>Zswim5</th>\n",
       "    </tr>\n",
       "  </thead>\n",
       "  <tbody>\n",
       "    <tr>\n",
       "      <th>0</th>\n",
       "      <td>0.0</td>\n",
       "      <td>0.0</td>\n",
       "      <td>0.0</td>\n",
       "      <td>0.0</td>\n",
       "      <td>0.0</td>\n",
       "      <td>0.0</td>\n",
       "      <td>0.0</td>\n",
       "      <td>0.0</td>\n",
       "      <td>0.871115</td>\n",
       "      <td>0.0</td>\n",
       "      <td>...</td>\n",
       "      <td>0.474738</td>\n",
       "      <td>0.871115</td>\n",
       "      <td>0.000000</td>\n",
       "      <td>0.000000</td>\n",
       "      <td>0.0</td>\n",
       "      <td>0.0</td>\n",
       "      <td>0.0</td>\n",
       "      <td>1.430630</td>\n",
       "      <td>0.000000</td>\n",
       "      <td>0.000000</td>\n",
       "    </tr>\n",
       "    <tr>\n",
       "      <th>1</th>\n",
       "      <td>0.0</td>\n",
       "      <td>0.0</td>\n",
       "      <td>0.0</td>\n",
       "      <td>0.0</td>\n",
       "      <td>0.0</td>\n",
       "      <td>0.0</td>\n",
       "      <td>0.0</td>\n",
       "      <td>0.0</td>\n",
       "      <td>0.417139</td>\n",
       "      <td>0.0</td>\n",
       "      <td>...</td>\n",
       "      <td>0.000000</td>\n",
       "      <td>0.000000</td>\n",
       "      <td>1.071130</td>\n",
       "      <td>0.000000</td>\n",
       "      <td>0.0</td>\n",
       "      <td>0.0</td>\n",
       "      <td>0.0</td>\n",
       "      <td>0.000000</td>\n",
       "      <td>0.417139</td>\n",
       "      <td>0.417139</td>\n",
       "    </tr>\n",
       "    <tr>\n",
       "      <th>2</th>\n",
       "      <td>0.0</td>\n",
       "      <td>0.0</td>\n",
       "      <td>0.0</td>\n",
       "      <td>0.0</td>\n",
       "      <td>0.0</td>\n",
       "      <td>0.0</td>\n",
       "      <td>0.0</td>\n",
       "      <td>0.0</td>\n",
       "      <td>0.000000</td>\n",
       "      <td>0.0</td>\n",
       "      <td>...</td>\n",
       "      <td>0.000000</td>\n",
       "      <td>0.000000</td>\n",
       "      <td>1.091152</td>\n",
       "      <td>0.000000</td>\n",
       "      <td>0.0</td>\n",
       "      <td>0.0</td>\n",
       "      <td>0.0</td>\n",
       "      <td>0.427199</td>\n",
       "      <td>0.000000</td>\n",
       "      <td>0.000000</td>\n",
       "    </tr>\n",
       "    <tr>\n",
       "      <th>3</th>\n",
       "      <td>0.0</td>\n",
       "      <td>0.0</td>\n",
       "      <td>0.0</td>\n",
       "      <td>0.0</td>\n",
       "      <td>0.0</td>\n",
       "      <td>0.0</td>\n",
       "      <td>0.0</td>\n",
       "      <td>0.0</td>\n",
       "      <td>0.000000</td>\n",
       "      <td>0.0</td>\n",
       "      <td>...</td>\n",
       "      <td>0.000000</td>\n",
       "      <td>0.000000</td>\n",
       "      <td>0.000000</td>\n",
       "      <td>0.000000</td>\n",
       "      <td>0.0</td>\n",
       "      <td>0.0</td>\n",
       "      <td>0.0</td>\n",
       "      <td>0.000000</td>\n",
       "      <td>0.000000</td>\n",
       "      <td>0.000000</td>\n",
       "    </tr>\n",
       "    <tr>\n",
       "      <th>4</th>\n",
       "      <td>0.0</td>\n",
       "      <td>0.0</td>\n",
       "      <td>0.0</td>\n",
       "      <td>0.0</td>\n",
       "      <td>0.0</td>\n",
       "      <td>0.0</td>\n",
       "      <td>0.0</td>\n",
       "      <td>0.0</td>\n",
       "      <td>0.000000</td>\n",
       "      <td>0.0</td>\n",
       "      <td>...</td>\n",
       "      <td>0.000000</td>\n",
       "      <td>0.000000</td>\n",
       "      <td>0.802924</td>\n",
       "      <td>0.432408</td>\n",
       "      <td>0.0</td>\n",
       "      <td>0.0</td>\n",
       "      <td>0.0</td>\n",
       "      <td>0.000000</td>\n",
       "      <td>4.090706</td>\n",
       "      <td>0.000000</td>\n",
       "    </tr>\n",
       "  </tbody>\n",
       "</table>\n",
       "<p>5 rows × 806 columns</p>\n",
       "</div>"
      ],
      "text/plain": [
       "   1700017I07Rik  1700019D03Rik  1700028M03Rik  1810065E05Rik  2010001A14Rik  \\\n",
       "0            0.0            0.0            0.0            0.0            0.0   \n",
       "1            0.0            0.0            0.0            0.0            0.0   \n",
       "2            0.0            0.0            0.0            0.0            0.0   \n",
       "3            0.0            0.0            0.0            0.0            0.0   \n",
       "4            0.0            0.0            0.0            0.0            0.0   \n",
       "\n",
       "   2010106E10Rik  2010107G12Rik  2010109I03Rik  2200002D01Rik  2700097O09Rik  \\\n",
       "0            0.0            0.0            0.0       0.871115            0.0   \n",
       "1            0.0            0.0            0.0       0.417139            0.0   \n",
       "2            0.0            0.0            0.0       0.000000            0.0   \n",
       "3            0.0            0.0            0.0       0.000000            0.0   \n",
       "4            0.0            0.0            0.0       0.000000            0.0   \n",
       "\n",
       "     ...          Xdh   Xpnpep1      Ybx1     Ywhaq  Zfp169  Zfp36  Zfp40  \\\n",
       "0    ...     0.474738  0.871115  0.000000  0.000000     0.0    0.0    0.0   \n",
       "1    ...     0.000000  0.000000  1.071130  0.000000     0.0    0.0    0.0   \n",
       "2    ...     0.000000  0.000000  1.091152  0.000000     0.0    0.0    0.0   \n",
       "3    ...     0.000000  0.000000  0.000000  0.000000     0.0    0.0    0.0   \n",
       "4    ...     0.000000  0.000000  0.802924  0.432408     0.0    0.0    0.0   \n",
       "\n",
       "     Zfp787      Zg16    Zswim5  \n",
       "0  1.430630  0.000000  0.000000  \n",
       "1  0.000000  0.417139  0.417139  \n",
       "2  0.427199  0.000000  0.000000  \n",
       "3  0.000000  0.000000  0.000000  \n",
       "4  0.000000  4.090706  0.000000  \n",
       "\n",
       "[5 rows x 806 columns]"
      ]
     },
     "execution_count": 124,
     "metadata": {},
     "output_type": "execute_result"
    }
   ],
   "source": [
    "nvr_data = pd.DataFrame( arc_data[:,selected_genes], columns=exp_names[selected_genes])\n",
    "nvr_data.head()"
   ]
  },
  {
   "cell_type": "code",
   "execution_count": 126,
   "metadata": {},
   "outputs": [
    {
     "data": {
      "text/plain": [
       "(900, 806)"
      ]
     },
     "execution_count": 126,
     "metadata": {},
     "output_type": "execute_result"
    }
   ],
   "source": [
    "nvr_data.shape"
   ]
  },
  {
   "cell_type": "code",
   "execution_count": 127,
   "metadata": {},
   "outputs": [],
   "source": [
    "nvr_data.to_csv( \"../data/preprocessed_data.csv\", index=None)"
   ]
  },
  {
   "cell_type": "markdown",
   "metadata": {},
   "source": [
    "### **References**"
   ]
  },
  {
   "cell_type": "markdown",
   "metadata": {},
   "source": [
    "https://dockflow.org/workflow/simple-single-cell/"
   ]
  },
  {
   "cell_type": "markdown",
   "metadata": {},
   "source": [
    "http://www.nxn.se/valent/2017/11/16/droplet-scrna-seq-is-not-zero-inflated"
   ]
  },
  {
   "cell_type": "code",
   "execution_count": null,
   "metadata": {},
   "outputs": [],
   "source": []
  }
 ],
 "metadata": {
  "kernelspec": {
   "display_name": "Python 2",
   "language": "python",
   "name": "python2"
  },
  "language_info": {
   "codemirror_mode": {
    "name": "ipython",
    "version": 2
   },
   "file_extension": ".py",
   "mimetype": "text/x-python",
   "name": "python",
   "nbconvert_exporter": "python",
   "pygments_lexer": "ipython2",
   "version": "2.7.15rc1"
  }
 },
 "nbformat": 4,
 "nbformat_minor": 2
}
